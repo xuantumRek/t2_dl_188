{
 "cells": [
  {
   "cell_type": "code",
   "execution_count": 18,
   "id": "479b1520",
   "metadata": {},
   "outputs": [
    {
     "name": "stdout",
     "output_type": "stream",
     "text": [
      "Requirement already satisfied: imbalanced-learn in c:\\users\\hafiz\\appdata\\local\\programs\\python\\python311\\lib\\site-packages (0.13.0)\n",
      "Requirement already satisfied: numpy<3,>=1.24.3 in c:\\users\\hafiz\\appdata\\local\\programs\\python\\python311\\lib\\site-packages (from imbalanced-learn) (2.1.3)\n",
      "Requirement already satisfied: scipy<2,>=1.10.1 in c:\\users\\hafiz\\appdata\\local\\programs\\python\\python311\\lib\\site-packages (from imbalanced-learn) (1.15.2)\n",
      "Requirement already satisfied: scikit-learn<2,>=1.3.2 in c:\\users\\hafiz\\appdata\\local\\programs\\python\\python311\\lib\\site-packages (from imbalanced-learn) (1.6.1)\n",
      "Requirement already satisfied: sklearn-compat<1,>=0.1 in c:\\users\\hafiz\\appdata\\local\\programs\\python\\python311\\lib\\site-packages (from imbalanced-learn) (0.1.3)\n",
      "Requirement already satisfied: joblib<2,>=1.1.1 in c:\\users\\hafiz\\appdata\\local\\programs\\python\\python311\\lib\\site-packages (from imbalanced-learn) (1.4.2)\n",
      "Requirement already satisfied: threadpoolctl<4,>=2.0.0 in c:\\users\\hafiz\\appdata\\local\\programs\\python\\python311\\lib\\site-packages (from imbalanced-learn) (3.5.0)\n",
      "Note: you may need to restart the kernel to use updated packages.\n"
     ]
    },
    {
     "name": "stderr",
     "output_type": "stream",
     "text": [
      "\n",
      "[notice] A new release of pip is available: 25.0.1 -> 25.1.1\n",
      "[notice] To update, run: python.exe -m pip install --upgrade pip\n"
     ]
    }
   ],
   "source": [
    "%pip install imbalanced-learn"
   ]
  },
  {
   "cell_type": "code",
   "execution_count": 19,
   "id": "4627d59b",
   "metadata": {},
   "outputs": [],
   "source": [
    "import pandas as pd\n",
    "import numpy as np\n",
    "import matplotlib.pyplot as plt\n",
    "import seaborn as sns\n",
    "from sklearn.preprocessing import LabelEncoder\n",
    "from imblearn.over_sampling import SMOTE\n",
    "from sklearn.model_selection import train_test_split\n",
    "from sklearn.preprocessing import StandardScaler, MinMaxScaler, Normalizer\n",
    "from sklearn.linear_model import LogisticRegression\n",
    "from sklearn.metrics import accuracy_score, classification_report, confusion_matrix, ConfusionMatrixDisplay"
   ]
  },
  {
   "cell_type": "code",
   "execution_count": 20,
   "id": "0edfe1ea",
   "metadata": {},
   "outputs": [
    {
     "data": {
      "application/vnd.microsoft.datawrangler.viewer.v0+json": {
       "columns": [
        {
         "name": "index",
         "rawType": "int64",
         "type": "integer"
        },
        {
         "name": "Name",
         "rawType": "object",
         "type": "string"
        },
        {
         "name": "Age",
         "rawType": "int64",
         "type": "integer"
        },
        {
         "name": "Gender",
         "rawType": "object",
         "type": "string"
        },
        {
         "name": "Marital_Status",
         "rawType": "object",
         "type": "string"
        },
        {
         "name": "Fatigue",
         "rawType": "float64",
         "type": "float"
        },
        {
         "name": "Slowing",
         "rawType": "float64",
         "type": "float"
        },
        {
         "name": "Pain",
         "rawType": "float64",
         "type": "float"
        },
        {
         "name": "Hygiene",
         "rawType": "float64",
         "type": "float"
        },
        {
         "name": "Movement",
         "rawType": "float64",
         "type": "float"
        },
        {
         "name": "Schizophrenia",
         "rawType": "object",
         "type": "string"
        }
       ],
       "ref": "e516744a-5c00-4f9d-8357-31ec8df40b7d",
       "rows": [
        [
         "0",
         "Leslie Goodwin",
         "68",
         "Female",
         "Single",
         "0.6980750130066736",
         "0.1230644922883633",
         "0.3753027444010162",
         "0.2346393495932713",
         "0.2518694466408488",
         "Elevated Proneness"
        ],
        [
         "1",
         "Dr. Troy Castaneda",
         "88",
         "Male",
         "Married",
         "0.0492450524842216",
         "-0.0420800435388957",
         "0.432806602363974",
         "0.5012377645017583",
         "0.3799482881030315",
         "Moderate Proneness"
        ],
        [
         "2",
         "Chelsey Allen",
         "67",
         "Female",
         "Married",
         "0.651994503551039",
         "0.1871166161778374",
         null,
         "0.3019416642127021",
         "0.302588153871856",
         "Elevated Proneness"
        ],
        [
         "3",
         "Dr. Devin Skinner DVM",
         "95",
         "Female",
         "Widowed",
         "0.0363237389187373",
         "0.5808079689048639",
         "0.0053555198838411",
         "0.3069676027888867",
         "0.8136175955953819",
         "Moderate Proneness"
        ],
        [
         "4",
         "Megan Mendez",
         "81",
         "Female",
         "Widowed",
         "0.9267269519411884",
         "0.4842023674763164",
         "0.7024046272534654",
         "0.7360538079570458",
         "0.5794484368643991",
         "High Proneness"
        ]
       ],
       "shape": {
        "columns": 10,
        "rows": 5
       }
      },
      "text/html": [
       "<div>\n",
       "<style scoped>\n",
       "    .dataframe tbody tr th:only-of-type {\n",
       "        vertical-align: middle;\n",
       "    }\n",
       "\n",
       "    .dataframe tbody tr th {\n",
       "        vertical-align: top;\n",
       "    }\n",
       "\n",
       "    .dataframe thead th {\n",
       "        text-align: right;\n",
       "    }\n",
       "</style>\n",
       "<table border=\"1\" class=\"dataframe\">\n",
       "  <thead>\n",
       "    <tr style=\"text-align: right;\">\n",
       "      <th></th>\n",
       "      <th>Name</th>\n",
       "      <th>Age</th>\n",
       "      <th>Gender</th>\n",
       "      <th>Marital_Status</th>\n",
       "      <th>Fatigue</th>\n",
       "      <th>Slowing</th>\n",
       "      <th>Pain</th>\n",
       "      <th>Hygiene</th>\n",
       "      <th>Movement</th>\n",
       "      <th>Schizophrenia</th>\n",
       "    </tr>\n",
       "  </thead>\n",
       "  <tbody>\n",
       "    <tr>\n",
       "      <th>0</th>\n",
       "      <td>Leslie Goodwin</td>\n",
       "      <td>68</td>\n",
       "      <td>Female</td>\n",
       "      <td>Single</td>\n",
       "      <td>0.698075</td>\n",
       "      <td>0.123064</td>\n",
       "      <td>0.375303</td>\n",
       "      <td>0.234639</td>\n",
       "      <td>0.251869</td>\n",
       "      <td>Elevated Proneness</td>\n",
       "    </tr>\n",
       "    <tr>\n",
       "      <th>1</th>\n",
       "      <td>Dr. Troy Castaneda</td>\n",
       "      <td>88</td>\n",
       "      <td>Male</td>\n",
       "      <td>Married</td>\n",
       "      <td>0.049245</td>\n",
       "      <td>-0.042080</td>\n",
       "      <td>0.432807</td>\n",
       "      <td>0.501238</td>\n",
       "      <td>0.379948</td>\n",
       "      <td>Moderate Proneness</td>\n",
       "    </tr>\n",
       "    <tr>\n",
       "      <th>2</th>\n",
       "      <td>Chelsey Allen</td>\n",
       "      <td>67</td>\n",
       "      <td>Female</td>\n",
       "      <td>Married</td>\n",
       "      <td>0.651995</td>\n",
       "      <td>0.187117</td>\n",
       "      <td>NaN</td>\n",
       "      <td>0.301942</td>\n",
       "      <td>0.302588</td>\n",
       "      <td>Elevated Proneness</td>\n",
       "    </tr>\n",
       "    <tr>\n",
       "      <th>3</th>\n",
       "      <td>Dr. Devin Skinner DVM</td>\n",
       "      <td>95</td>\n",
       "      <td>Female</td>\n",
       "      <td>Widowed</td>\n",
       "      <td>0.036324</td>\n",
       "      <td>0.580808</td>\n",
       "      <td>0.005356</td>\n",
       "      <td>0.306968</td>\n",
       "      <td>0.813618</td>\n",
       "      <td>Moderate Proneness</td>\n",
       "    </tr>\n",
       "    <tr>\n",
       "      <th>4</th>\n",
       "      <td>Megan Mendez</td>\n",
       "      <td>81</td>\n",
       "      <td>Female</td>\n",
       "      <td>Widowed</td>\n",
       "      <td>0.926727</td>\n",
       "      <td>0.484202</td>\n",
       "      <td>0.702405</td>\n",
       "      <td>0.736054</td>\n",
       "      <td>0.579448</td>\n",
       "      <td>High Proneness</td>\n",
       "    </tr>\n",
       "  </tbody>\n",
       "</table>\n",
       "</div>"
      ],
      "text/plain": [
       "                    Name  Age  Gender Marital_Status   Fatigue   Slowing  \\\n",
       "0         Leslie Goodwin   68  Female         Single  0.698075  0.123064   \n",
       "1     Dr. Troy Castaneda   88    Male        Married  0.049245 -0.042080   \n",
       "2          Chelsey Allen   67  Female        Married  0.651995  0.187117   \n",
       "3  Dr. Devin Skinner DVM   95  Female        Widowed  0.036324  0.580808   \n",
       "4           Megan Mendez   81  Female        Widowed  0.926727  0.484202   \n",
       "\n",
       "       Pain   Hygiene  Movement       Schizophrenia  \n",
       "0  0.375303  0.234639  0.251869  Elevated Proneness  \n",
       "1  0.432807  0.501238  0.379948  Moderate Proneness  \n",
       "2       NaN  0.301942  0.302588  Elevated Proneness  \n",
       "3  0.005356  0.306968  0.813618  Moderate Proneness  \n",
       "4  0.702405  0.736054  0.579448      High Proneness  "
      ]
     },
     "execution_count": 20,
     "metadata": {},
     "output_type": "execute_result"
    }
   ],
   "source": [
    "df = pd.read_csv('SchizophreniaSymptomnsData.csv')\n",
    "df.head()"
   ]
  },
  {
   "cell_type": "code",
   "execution_count": 21,
   "id": "630c0771",
   "metadata": {},
   "outputs": [
    {
     "name": "stdout",
     "output_type": "stream",
     "text": [
      "<class 'pandas.core.frame.DataFrame'>\n",
      "RangeIndex: 5000 entries, 0 to 4999\n",
      "Data columns (total 10 columns):\n",
      " #   Column          Non-Null Count  Dtype  \n",
      "---  ------          --------------  -----  \n",
      " 0   Name            5000 non-null   object \n",
      " 1   Age             5000 non-null   int64  \n",
      " 2   Gender          5000 non-null   object \n",
      " 3   Marital_Status  5000 non-null   object \n",
      " 4   Fatigue         4756 non-null   float64\n",
      " 5   Slowing         4771 non-null   float64\n",
      " 6   Pain            4758 non-null   float64\n",
      " 7   Hygiene         5000 non-null   float64\n",
      " 8   Movement        5000 non-null   float64\n",
      " 9   Schizophrenia   5000 non-null   object \n",
      "dtypes: float64(5), int64(1), object(4)\n",
      "memory usage: 390.8+ KB\n"
     ]
    }
   ],
   "source": [
    "df.info()"
   ]
  },
  {
   "cell_type": "code",
   "execution_count": 22,
   "id": "5c965049",
   "metadata": {},
   "outputs": [
    {
     "data": {
      "application/vnd.microsoft.datawrangler.viewer.v0+json": {
       "columns": [
        {
         "name": "index",
         "rawType": "object",
         "type": "string"
        },
        {
         "name": "Age",
         "rawType": "float64",
         "type": "float"
        },
        {
         "name": "Fatigue",
         "rawType": "float64",
         "type": "float"
        },
        {
         "name": "Slowing",
         "rawType": "float64",
         "type": "float"
        },
        {
         "name": "Pain",
         "rawType": "float64",
         "type": "float"
        },
        {
         "name": "Hygiene",
         "rawType": "float64",
         "type": "float"
        },
        {
         "name": "Movement",
         "rawType": "float64",
         "type": "float"
        }
       ],
       "ref": "e9151fb2-15ad-4008-bff6-9cc49dfb5657",
       "rows": [
        [
         "count",
         "5000.0",
         "4756.0",
         "4771.0",
         "4758.0",
         "5000.0",
         "5000.0"
        ],
        [
         "mean",
         "74.8334",
         "0.5038353983967941",
         "0.49952374809771966",
         "0.499611759769837",
         "0.4997172363914277",
         "0.49995212803151223"
        ],
        [
         "std",
         "9.577869886269685",
         "0.29612272192973565",
         "0.29536482282130877",
         "0.2948863571804046",
         "0.2949074938360977",
         "0.28986010961039604"
        ],
        [
         "min",
         "55.0",
         "-0.0951151800318572",
         "-0.0948434094936014",
         "-0.0957707096299542",
         "-0.0942839589496364",
         "-0.0892721151474039"
        ],
        [
         "25%",
         "67.0",
         "0.24705646372358558",
         "0.2457948078953081",
         "0.2511741932002221",
         "0.24899801609526714",
         "0.2541428639866637"
        ],
        [
         "50%",
         "75.0",
         "0.5062781384966747",
         "0.5024026990046585",
         "0.4980508204144454",
         "0.5012228049881408",
         "0.5033403473247327"
        ],
        [
         "75%",
         "83.0",
         "0.7594986742618424",
         "0.7448118931383318",
         "0.749946188977787",
         "0.7510290933720871",
         "0.7412534480295632"
        ],
        [
         "max",
         "95.0",
         "1.0911359960713527",
         "1.0921463044213775",
         "1.090026600615796",
         "1.086922483899423",
         "1.0889136914237365"
        ]
       ],
       "shape": {
        "columns": 6,
        "rows": 8
       }
      },
      "text/html": [
       "<div>\n",
       "<style scoped>\n",
       "    .dataframe tbody tr th:only-of-type {\n",
       "        vertical-align: middle;\n",
       "    }\n",
       "\n",
       "    .dataframe tbody tr th {\n",
       "        vertical-align: top;\n",
       "    }\n",
       "\n",
       "    .dataframe thead th {\n",
       "        text-align: right;\n",
       "    }\n",
       "</style>\n",
       "<table border=\"1\" class=\"dataframe\">\n",
       "  <thead>\n",
       "    <tr style=\"text-align: right;\">\n",
       "      <th></th>\n",
       "      <th>Age</th>\n",
       "      <th>Fatigue</th>\n",
       "      <th>Slowing</th>\n",
       "      <th>Pain</th>\n",
       "      <th>Hygiene</th>\n",
       "      <th>Movement</th>\n",
       "    </tr>\n",
       "  </thead>\n",
       "  <tbody>\n",
       "    <tr>\n",
       "      <th>count</th>\n",
       "      <td>5000.00000</td>\n",
       "      <td>4756.000000</td>\n",
       "      <td>4771.000000</td>\n",
       "      <td>4758.000000</td>\n",
       "      <td>5000.000000</td>\n",
       "      <td>5000.000000</td>\n",
       "    </tr>\n",
       "    <tr>\n",
       "      <th>mean</th>\n",
       "      <td>74.83340</td>\n",
       "      <td>0.503835</td>\n",
       "      <td>0.499524</td>\n",
       "      <td>0.499612</td>\n",
       "      <td>0.499717</td>\n",
       "      <td>0.499952</td>\n",
       "    </tr>\n",
       "    <tr>\n",
       "      <th>std</th>\n",
       "      <td>9.57787</td>\n",
       "      <td>0.296123</td>\n",
       "      <td>0.295365</td>\n",
       "      <td>0.294886</td>\n",
       "      <td>0.294907</td>\n",
       "      <td>0.289860</td>\n",
       "    </tr>\n",
       "    <tr>\n",
       "      <th>min</th>\n",
       "      <td>55.00000</td>\n",
       "      <td>-0.095115</td>\n",
       "      <td>-0.094843</td>\n",
       "      <td>-0.095771</td>\n",
       "      <td>-0.094284</td>\n",
       "      <td>-0.089272</td>\n",
       "    </tr>\n",
       "    <tr>\n",
       "      <th>25%</th>\n",
       "      <td>67.00000</td>\n",
       "      <td>0.247056</td>\n",
       "      <td>0.245795</td>\n",
       "      <td>0.251174</td>\n",
       "      <td>0.248998</td>\n",
       "      <td>0.254143</td>\n",
       "    </tr>\n",
       "    <tr>\n",
       "      <th>50%</th>\n",
       "      <td>75.00000</td>\n",
       "      <td>0.506278</td>\n",
       "      <td>0.502403</td>\n",
       "      <td>0.498051</td>\n",
       "      <td>0.501223</td>\n",
       "      <td>0.503340</td>\n",
       "    </tr>\n",
       "    <tr>\n",
       "      <th>75%</th>\n",
       "      <td>83.00000</td>\n",
       "      <td>0.759499</td>\n",
       "      <td>0.744812</td>\n",
       "      <td>0.749946</td>\n",
       "      <td>0.751029</td>\n",
       "      <td>0.741253</td>\n",
       "    </tr>\n",
       "    <tr>\n",
       "      <th>max</th>\n",
       "      <td>95.00000</td>\n",
       "      <td>1.091136</td>\n",
       "      <td>1.092146</td>\n",
       "      <td>1.090027</td>\n",
       "      <td>1.086922</td>\n",
       "      <td>1.088914</td>\n",
       "    </tr>\n",
       "  </tbody>\n",
       "</table>\n",
       "</div>"
      ],
      "text/plain": [
       "              Age      Fatigue      Slowing         Pain      Hygiene  \\\n",
       "count  5000.00000  4756.000000  4771.000000  4758.000000  5000.000000   \n",
       "mean     74.83340     0.503835     0.499524     0.499612     0.499717   \n",
       "std       9.57787     0.296123     0.295365     0.294886     0.294907   \n",
       "min      55.00000    -0.095115    -0.094843    -0.095771    -0.094284   \n",
       "25%      67.00000     0.247056     0.245795     0.251174     0.248998   \n",
       "50%      75.00000     0.506278     0.502403     0.498051     0.501223   \n",
       "75%      83.00000     0.759499     0.744812     0.749946     0.751029   \n",
       "max      95.00000     1.091136     1.092146     1.090027     1.086922   \n",
       "\n",
       "          Movement  \n",
       "count  5000.000000  \n",
       "mean      0.499952  \n",
       "std       0.289860  \n",
       "min      -0.089272  \n",
       "25%       0.254143  \n",
       "50%       0.503340  \n",
       "75%       0.741253  \n",
       "max       1.088914  "
      ]
     },
     "execution_count": 22,
     "metadata": {},
     "output_type": "execute_result"
    }
   ],
   "source": [
    "df.describe()"
   ]
  },
  {
   "cell_type": "code",
   "execution_count": 23,
   "id": "24771e24",
   "metadata": {},
   "outputs": [
    {
     "data": {
      "application/vnd.microsoft.datawrangler.viewer.v0+json": {
       "columns": [
        {
         "name": "Schizophrenia",
         "rawType": "object",
         "type": "string"
        },
        {
         "name": "count",
         "rawType": "int64",
         "type": "integer"
        }
       ],
       "ref": "6dc487e4-3071-4475-afae-248cc2bc7637",
       "rows": [
        [
         "Elevated Proneness",
         "3077"
        ],
        [
         "High Proneness",
         "953"
        ],
        [
         "Moderate Proneness",
         "912"
        ],
        [
         "Low Proneness",
         "45"
        ],
        [
         "Very High Proneness",
         "13"
        ]
       ],
       "shape": {
        "columns": 1,
        "rows": 5
       }
      },
      "text/plain": [
       "Schizophrenia\n",
       "Elevated Proneness     3077\n",
       "High Proneness          953\n",
       "Moderate Proneness      912\n",
       "Low Proneness            45\n",
       "Very High Proneness      13\n",
       "Name: count, dtype: int64"
      ]
     },
     "execution_count": 23,
     "metadata": {},
     "output_type": "execute_result"
    }
   ],
   "source": [
    "df['Schizophrenia'].value_counts()"
   ]
  },
  {
   "cell_type": "code",
   "execution_count": 24,
   "id": "45d63f08",
   "metadata": {},
   "outputs": [],
   "source": [
    "df.drop(columns=['Name'], inplace=True)"
   ]
  },
  {
   "cell_type": "code",
   "execution_count": 25,
   "id": "f44cc3df",
   "metadata": {},
   "outputs": [],
   "source": [
    "df.dropna(axis=0, inplace=True)"
   ]
  },
  {
   "cell_type": "code",
   "execution_count": 26,
   "id": "f8c9d869",
   "metadata": {},
   "outputs": [
    {
     "name": "stdout",
     "output_type": "stream",
     "text": [
      "Jumlah nilai outlier per kolom:\n",
      "Age         0\n",
      "Fatigue     0\n",
      "Slowing     0\n",
      "Pain        0\n",
      "Hygiene     0\n",
      "Movement    0\n",
      "dtype: int64\n"
     ]
    }
   ],
   "source": [
    "num_cols = df.select_dtypes(include=[np.number])\n",
    "\n",
    "q1 = np.quantile(num_cols, 0.25, axis=0)\n",
    "q2 = np.quantile(num_cols, 0.50, axis=0)\n",
    "q3 = np.quantile(num_cols, 0.75, axis=0)\n",
    "iqr = q3 - q1\n",
    "\n",
    "upper_bound = q3 + 1.5 * iqr\n",
    "lower_bound = q1 - 1.5 * iqr\n",
    "\n",
    "outliers = (num_cols < lower_bound) | (num_cols > upper_bound)\n",
    "print(\"Jumlah nilai outlier per kolom:\")\n",
    "print(outliers.sum())"
   ]
  },
  {
   "cell_type": "code",
   "execution_count": 27,
   "id": "e6e5718a",
   "metadata": {},
   "outputs": [
    {
     "data": {
      "image/png": "[encoded data removed]",
      "text/plain": [
       "<Figure size 1500x1000 with 6 Axes>"
      ]
     },
     "metadata": {},
     "output_type": "display_data"
    }
   ],
   "source": [
    "columns = ['Age',  'Fatigue', 'Slowing', 'Pain', 'Hygiene', 'Movement']\n",
    "\n",
    "fig, axes = plt.subplots(2, 3, figsize=(15, 10), layout='constrained')\n",
    "axes = axes.flatten() \n",
    "\n",
    "if len(columns) == 1:\n",
    "    axes = [axes]\n",
    "\n",
    "for i, col in enumerate(columns):\n",
    "    axes[i].boxplot(df[col].dropna())\n",
    "    axes[i].set_title(col)\n",
    "    axes[i].set_xlabel('Observations')\n",
    "    axes[i].set_ylabel('Values')\n",
    "\n",
    "plt.show()"
   ]
  },
  {
   "cell_type": "code",
   "execution_count": 28,
   "id": "4733c345",
   "metadata": {},
   "outputs": [],
   "source": [
    "le_gender = LabelEncoder()\n",
    "df['Gender'] = le_gender.fit_transform(df['Gender'])\n",
    "\n",
    "marital_stat_map = {\n",
    "    'Single': 0, \n",
    "    'Married': 1, \n",
    "    'Divorced': 2, \n",
    "    'Widowed': 3\n",
    "}\n",
    "\n",
    "label_map = {\n",
    "    'Low Proneness' : 0,\n",
    "    'Moderate Proneness' : 1,\n",
    "    'Elevated Proneness' : 2,\n",
    "    'High Proneness': 3,\n",
    "    'Very High Proneness': 4\n",
    "}\n",
    "\n",
    "df['Marital_Status'] = df['Marital_Status'].map(marital_stat_map)\n",
    "df['Schizophrenia'] = df['Schizophrenia'].map(label_map)"
   ]
  },
  {
   "cell_type": "code",
   "execution_count": 29,
   "id": "971401b2",
   "metadata": {},
   "outputs": [
    {
     "data": {
      "text/plain": [
       "((4318, 8), (4318,))"
      ]
     },
     "execution_count": 29,
     "metadata": {},
     "output_type": "execute_result"
    }
   ],
   "source": [
    "X = df.iloc[:, :-1]\n",
    "y = df.iloc[:, -1]\n",
    "X.shape, y.shape"
   ]
  },
  {
   "cell_type": "code",
   "execution_count": 30,
   "id": "fe411a8e",
   "metadata": {},
   "outputs": [
    {
     "data": {
      "image/png": "[encoded data removed]",
      "text/plain": [
       "<Figure size 1000x600 with 1 Axes>"
      ]
     },
     "metadata": {},
     "output_type": "display_data"
    }
   ],
   "source": [
    "plt.figure(figsize=(10, 6))\n",
    "plt.hist(df['Schizophrenia'], bins=np.arange(6)-0.5, edgecolor='black', color='white')\n",
    "plt.title('Distribution of Dependent Label')\n",
    "plt.xlabel('Schizophrenia Proneness Level')\n",
    "plt.ylabel('Frequency')\n",
    "plt.xticks(ticks=np.arange(5), labels=['Low', 'Moderate', 'Elevated', 'High', 'Very High'])\n",
    "plt.tight_layout()\n",
    "plt.show()"
   ]
  },
  {
   "cell_type": "code",
   "execution_count": 31,
   "id": "bd0a3fae",
   "metadata": {},
   "outputs": [],
   "source": [
    "# sm = SMOTE(random_state=42)\n",
    "# X_sampling, y_sampling = sm.fit_resample(X, y)\n",
    "# X_sampling.shape, y_sampling.shape"
   ]
  },
  {
   "cell_type": "code",
   "execution_count": 32,
   "id": "77a86575",
   "metadata": {},
   "outputs": [],
   "source": [
    "# fig = plt.figure(figsize=(10, 6))\n",
    "# plt.hist(y_sampling, bins=np.arange(6)-0.5, edgecolor='black', color='white')\n",
    "# plt.title('Distribution of Dependent Label After SMOTE')\n",
    "# plt.xlabel('Schizophrenia Proneness Level')\n",
    "# plt.ylabel('Frequency')\n",
    "# plt.xticks(ticks=np.arange(5), labels=['Low', 'Moderate', 'Elevated', 'High', 'Very High'])\n",
    "# plt.tight_layout()\n",
    "# plt.show()"
   ]
  },
  {
   "cell_type": "code",
   "execution_count": 33,
   "id": "22fea2ac",
   "metadata": {},
   "outputs": [],
   "source": [
    "# df.shape"
   ]
  },
  {
   "cell_type": "code",
   "execution_count": 34,
   "id": "4bc1c357",
   "metadata": {},
   "outputs": [],
   "source": [
    "X_train, X_test, y_train, y_test = train_test_split(X, y, test_size=0.2, random_state=42, stratify=y)"
   ]
  },
  {
   "cell_type": "code",
   "execution_count": 35,
   "id": "1efa56ec",
   "metadata": {},
   "outputs": [
    {
     "name": "stderr",
     "output_type": "stream",
     "text": [
      "c:\\Users\\hafiz\\AppData\\Local\\Programs\\Python\\Python311\\Lib\\site-packages\\sklearn\\linear_model\\_logistic.py:465: ConvergenceWarning: lbfgs failed to converge (status=1):\n",
      "STOP: TOTAL NO. OF ITERATIONS REACHED LIMIT.\n",
      "\n",
      "Increase the number of iterations (max_iter) or scale the data as shown in:\n",
      "    https://scikit-learn.org/stable/modules/preprocessing.html\n",
      "Please also refer to the documentation for alternative solver options:\n",
      "    https://scikit-learn.org/stable/modules/linear_model.html#logistic-regression\n",
      "  n_iter_i = _check_optimize_result(\n"
     ]
    },
    {
     "name": "stdout",
     "output_type": "stream",
     "text": [
      "Accuracy: 0.9548611111111112\n",
      "              precision    recall  f1-score   support\n",
      "\n",
      "           0       0.00      0.00      0.00         7\n",
      "           1       0.95      0.89      0.92       156\n",
      "           2       0.95      1.00      0.97       530\n",
      "           3       0.98      0.93      0.95       168\n",
      "           4       0.00      0.00      0.00         3\n",
      "\n",
      "    accuracy                           0.95       864\n",
      "   macro avg       0.58      0.56      0.57       864\n",
      "weighted avg       0.94      0.95      0.95       864\n",
      "\n"
     ]
    },
    {
     "data": {
      "image/png": "[encoded data removed]",
      "text/plain": [
       "<Figure size 640x480 with 2 Axes>"
      ]
     },
     "metadata": {},
     "output_type": "display_data"
    }
   ],
   "source": [
    "def no_norm (X_train, X_test):\n",
    "    model = LogisticRegression(max_iter=2800)\n",
    "    model.fit(X_train, y_train)\n",
    "    y_pred = model.predict(X_test)\n",
    "\n",
    "    print(\"Accuracy:\", accuracy_score(y_test, y_pred))\n",
    "    print(classification_report(y_test, y_pred, zero_division=0))\n",
    "\n",
    "    cm = confusion_matrix(y_test, y_pred)\n",
    "    disp = ConfusionMatrixDisplay(confusion_matrix=cm, display_labels=model.classes_)\n",
    "    disp.plot(cmap='Blues')\n",
    "    plt.title(\"Confusion Matrix\")\n",
    "    plt.show()\n",
    "\n",
    "    return model\n",
    "\n",
    "no_norm_model = no_norm(X_train, X_test)"
   ]
  },
  {
   "cell_type": "code",
   "execution_count": 36,
   "id": "9bdca282",
   "metadata": {},
   "outputs": [
    {
     "name": "stdout",
     "output_type": "stream",
     "text": [
      "Accuracy: 0.9780092592592593\n",
      "              precision    recall  f1-score   support\n",
      "\n",
      "           0       0.00      0.00      0.00         7\n",
      "           1       0.96      0.97      0.97       156\n",
      "           2       0.98      1.00      0.99       530\n",
      "           3       0.98      0.97      0.98       168\n",
      "           4       0.00      0.00      0.00         3\n",
      "\n",
      "    accuracy                           0.98       864\n",
      "   macro avg       0.58      0.59      0.59       864\n",
      "weighted avg       0.97      0.98      0.97       864\n",
      "\n"
     ]
    },
    {
     "data": {
      "image/png": "[encoded data removed]",
      "text/plain": [
       "<Figure size 640x480 with 2 Axes>"
      ]
     },
     "metadata": {},
     "output_type": "display_data"
    }
   ],
   "source": [
    "def zscore_norm (X_train, X_test):\n",
    "    scaler = StandardScaler()\n",
    "    X_train_scaled = scaler.fit_transform(X_train)\n",
    "    X_test_scaled = scaler.transform(X_test)\n",
    "\n",
    "    model = LogisticRegression()\n",
    "    model.fit(X_train_scaled, y_train)\n",
    "    y_pred = model.predict(X_test_scaled)\n",
    "\n",
    "    print(\"Accuracy:\", accuracy_score(y_test, y_pred))\n",
    "    print(classification_report(y_test, y_pred, zero_division=0))\n",
    "\n",
    "    cm = confusion_matrix(y_test, y_pred)\n",
    "    disp = ConfusionMatrixDisplay(confusion_matrix=cm, display_labels=model.classes_)\n",
    "    disp.plot(cmap='Blues')\n",
    "    plt.title(\"Confusion Matrix\")\n",
    "    plt.show()\n",
    "\n",
    "    return model\n",
    "\n",
    "zscore_model = zscore_norm(X_train, X_test)"
   ]
  },
  {
   "cell_type": "code",
   "execution_count": 37,
   "id": "86823a70",
   "metadata": {},
   "outputs": [
    {
     "name": "stdout",
     "output_type": "stream",
     "text": [
      "Accuracy: 0.9456018518518519\n",
      "              precision    recall  f1-score   support\n",
      "\n",
      "           0       0.00      0.00      0.00         7\n",
      "           1       0.95      0.88      0.92       156\n",
      "           2       0.93      1.00      0.97       530\n",
      "           3       0.98      0.89      0.93       168\n",
      "           4       0.00      0.00      0.00         3\n",
      "\n",
      "    accuracy                           0.95       864\n",
      "   macro avg       0.57      0.55      0.56       864\n",
      "weighted avg       0.94      0.95      0.94       864\n",
      "\n"
     ]
    },
    {
     "data": {
      "image/png": "[encoded data removed]",
      "text/plain": [
       "<Figure size 640x480 with 2 Axes>"
      ]
     },
     "metadata": {},
     "output_type": "display_data"
    }
   ],
   "source": [
    "def minmax_norm (X_train, X_test):\n",
    "    scaler = MinMaxScaler()\n",
    "    X_train_scaled = scaler.fit_transform(X_train)\n",
    "    X_test_scaled = scaler.transform(X_test)\n",
    "\n",
    "    model = LogisticRegression()\n",
    "    model.fit(X_train_scaled, y_train)\n",
    "    y_pred = model.predict(X_test_scaled)\n",
    "\n",
    "    print(\"Accuracy:\", accuracy_score(y_test, y_pred))\n",
    "    print(classification_report(y_test, y_pred, zero_division=0))\n",
    "\n",
    "    cm = confusion_matrix(y_test, y_pred)\n",
    "    disp = ConfusionMatrixDisplay(confusion_matrix=cm, display_labels=model.classes_)\n",
    "    disp.plot(cmap='Blues')\n",
    "    plt.title(\"Confusion Matrix\")\n",
    "    plt.show()\n",
    "\n",
    "    return model\n",
    "\n",
    "minmax_model = minmax_norm(X_train, X_test)"
   ]
  },
  {
   "cell_type": "code",
   "execution_count": 38,
   "id": "93bda48d",
   "metadata": {},
   "outputs": [
    {
     "name": "stdout",
     "output_type": "stream",
     "text": [
      "Accuracy: 0.6134259259259259\n",
      "              precision    recall  f1-score   support\n",
      "\n",
      "           0       0.00      0.00      0.00         7\n",
      "           1       0.00      0.00      0.00       156\n",
      "           2       0.61      1.00      0.76       530\n",
      "           3       0.00      0.00      0.00       168\n",
      "           4       0.00      0.00      0.00         3\n",
      "\n",
      "    accuracy                           0.61       864\n",
      "   macro avg       0.12      0.20      0.15       864\n",
      "weighted avg       0.38      0.61      0.47       864\n",
      "\n"
     ]
    },
    {
     "data": {
      "image/png": "[encoded data removed]",
      "text/plain": [
       "<Figure size 640x480 with 2 Axes>"
      ]
     },
     "metadata": {},
     "output_type": "display_data"
    }
   ],
   "source": [
    "def l1_norm (X_train, X_test):\n",
    "    scaler = Normalizer(norm='l1')\n",
    "    X_train_scaled = scaler.fit_transform(X_train)\n",
    "    X_test_scaled = scaler.transform(X_test)\n",
    "\n",
    "    model = LogisticRegression()\n",
    "    model.fit(X_train_scaled, y_train)\n",
    "    y_pred = model.predict(X_test_scaled)\n",
    "\n",
    "    print(\"Accuracy:\", accuracy_score(y_test, y_pred))\n",
    "    print(classification_report(y_test, y_pred, zero_division=0))\n",
    "\n",
    "    cm = confusion_matrix(y_test, y_pred)\n",
    "    disp = ConfusionMatrixDisplay(confusion_matrix=cm, display_labels=model.classes_)\n",
    "    disp.plot(cmap='Blues')\n",
    "    plt.title(\"Confusion Matrix\")\n",
    "    plt.show()\n",
    "\n",
    "    return model\n",
    "\n",
    "l1_model = l1_norm(X_train, X_test)"
   ]
  },
  {
   "cell_type": "code",
   "execution_count": 39,
   "id": "62b9cb89",
   "metadata": {},
   "outputs": [
    {
     "name": "stdout",
     "output_type": "stream",
     "text": [
      "Accuracy: 0.6134259259259259\n",
      "              precision    recall  f1-score   support\n",
      "\n",
      "           0       0.00      0.00      0.00         7\n",
      "           1       0.00      0.00      0.00       156\n",
      "           2       0.61      1.00      0.76       530\n",
      "           3       0.00      0.00      0.00       168\n",
      "           4       0.00      0.00      0.00         3\n",
      "\n",
      "    accuracy                           0.61       864\n",
      "   macro avg       0.12      0.20      0.15       864\n",
      "weighted avg       0.38      0.61      0.47       864\n",
      "\n"
     ]
    },
    {
     "data": {
      "image/png": "[encoded data removed]",
      "text/plain": [
       "<Figure size 640x480 with 2 Axes>"
      ]
     },
     "metadata": {},
     "output_type": "display_data"
    }
   ],
   "source": [
    "def l2_norm (X_train, X_test):\n",
    "    scaler = Normalizer(norm='l2')\n",
    "    X_train_scaled = scaler.fit_transform(X_train)\n",
    "    X_test_scaled = scaler.transform(X_test)\n",
    "\n",
    "    model = LogisticRegression()\n",
    "    model.fit(X_train_scaled, y_train)\n",
    "    y_pred = model.predict(X_test_scaled)\n",
    "\n",
    "    print(\"Accuracy:\", accuracy_score(y_test, y_pred))\n",
    "    print(classification_report(y_test, y_pred, zero_division=0))\n",
    "\n",
    "    cm = confusion_matrix(y_test, y_pred)\n",
    "    disp = ConfusionMatrixDisplay(confusion_matrix=cm, display_labels=model.classes_)\n",
    "    disp.plot(cmap='Blues')\n",
    "    plt.title(\"Confusion Matrix\")\n",
    "    plt.show()\n",
    "\n",
    "    return model\n",
    "\n",
    "l2_model = l2_norm(X_train, X_test)"
   ]
  }
 ],
 "metadata": {
  "kernelspec": {
   "display_name": "Python 3",
   "language": "python",
   "name": "python3"
  },
  "language_info": {
   "codemirror_mode": {
    "name": "ipython",
    "version": 3
   },
   "file_extension": ".py",
   "mimetype": "text/x-python",
   "name": "python",
   "nbconvert_exporter": "python",
   "pygments_lexer": "ipython3",
   "version": "3.11.9"
  }
 },
 "nbformat": 4,
 "nbformat_minor": 5
}
